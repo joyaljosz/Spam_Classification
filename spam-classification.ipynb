{
 "cells": [
  {
   "cell_type": "code",
   "execution_count": 1,
   "id": "b97bedd7",
   "metadata": {
    "_cell_guid": "b1076dfc-b9ad-4769-8c92-a6c4dae69d19",
    "_uuid": "8f2839f25d086af736a60e9eeb907d3b93b6e0e5",
    "execution": {
     "iopub.execute_input": "2023-09-10T11:59:00.278700Z",
     "iopub.status.busy": "2023-09-10T11:59:00.277429Z",
     "iopub.status.idle": "2023-09-10T11:59:00.721901Z",
     "shell.execute_reply": "2023-09-10T11:59:00.719422Z"
    },
    "papermill": {
     "duration": 0.459537,
     "end_time": "2023-09-10T11:59:00.725914",
     "exception": false,
     "start_time": "2023-09-10T11:59:00.266377",
     "status": "completed"
    },
    "tags": []
   },
   "outputs": [
    {
     "name": "stdout",
     "output_type": "stream",
     "text": [
      "/kaggle/input/spam-ham-dataset/spam_dataset.csv\n"
     ]
    }
   ],
   "source": [
    "# This Python 3 environment comes with many helpful analytics libraries installed\n",
    "# It is defined by the kaggle/python Docker image: https://github.com/kaggle/docker-python\n",
    "# For example, here's several helpful packages to load\n",
    "\n",
    "import numpy as np # linear algebra\n",
    "import pandas as pd # data processing, CSV file I/O (e.g. pd.read_csv)\n",
    "\n",
    "# Input data files are available in the read-only \"../input/\" directory\n",
    "# For example, running this (by clicking run or pressing Shift+Enter) will list all files under the input directory\n",
    "\n",
    "import os\n",
    "for dirname, _, filenames in os.walk('/kaggle/input'):\n",
    "    for filename in filenames:\n",
    "        print(os.path.join(dirname, filename))\n",
    "\n",
    "# You can write up to 20GB to the current directory (/kaggle/working/) that gets preserved as output when you create a version using \"Save & Run All\" \n",
    "# You can also write temporary files to /kaggle/temp/, but they won't be saved outside of the current session"
   ]
  },
  {
   "cell_type": "code",
   "execution_count": 2,
   "id": "0afb0ae0",
   "metadata": {
    "execution": {
     "iopub.execute_input": "2023-09-10T11:59:00.744648Z",
     "iopub.status.busy": "2023-09-10T11:59:00.744124Z",
     "iopub.status.idle": "2023-09-10T11:59:02.354637Z",
     "shell.execute_reply": "2023-09-10T11:59:02.353387Z"
    },
    "papermill": {
     "duration": 1.623154,
     "end_time": "2023-09-10T11:59:02.357662",
     "exception": false,
     "start_time": "2023-09-10T11:59:00.734508",
     "status": "completed"
    },
    "tags": []
   },
   "outputs": [],
   "source": [
    "from sklearn.model_selection import train_test_split\n",
    "from sklearn.feature_extraction.text import TfidfVectorizer\n",
    "from sklearn.linear_model import LogisticRegression\n",
    "from sklearn.metrics import accuracy_score\n",
    "import matplotlib.pyplot as plt"
   ]
  },
  {
   "cell_type": "code",
   "execution_count": 3,
   "id": "88121384",
   "metadata": {
    "execution": {
     "iopub.execute_input": "2023-09-10T11:59:02.376894Z",
     "iopub.status.busy": "2023-09-10T11:59:02.376163Z",
     "iopub.status.idle": "2023-09-10T11:59:02.558129Z",
     "shell.execute_reply": "2023-09-10T11:59:02.557072Z"
    },
    "papermill": {
     "duration": 0.194339,
     "end_time": "2023-09-10T11:59:02.560522",
     "exception": false,
     "start_time": "2023-09-10T11:59:02.366183",
     "status": "completed"
    },
    "tags": []
   },
   "outputs": [
    {
     "data": {
      "text/html": [
       "<div>\n",
       "<style scoped>\n",
       "    .dataframe tbody tr th:only-of-type {\n",
       "        vertical-align: middle;\n",
       "    }\n",
       "\n",
       "    .dataframe tbody tr th {\n",
       "        vertical-align: top;\n",
       "    }\n",
       "\n",
       "    .dataframe thead th {\n",
       "        text-align: right;\n",
       "    }\n",
       "</style>\n",
       "<table border=\"1\" class=\"dataframe\">\n",
       "  <thead>\n",
       "    <tr style=\"text-align: right;\">\n",
       "      <th></th>\n",
       "      <th>Unnamed: 0</th>\n",
       "      <th>label</th>\n",
       "      <th>text</th>\n",
       "      <th>label_num</th>\n",
       "    </tr>\n",
       "  </thead>\n",
       "  <tbody>\n",
       "    <tr>\n",
       "      <th>0</th>\n",
       "      <td>605</td>\n",
       "      <td>ham</td>\n",
       "      <td>Subject: enron methanol ; meter # : 988291\\r\\n...</td>\n",
       "      <td>0</td>\n",
       "    </tr>\n",
       "    <tr>\n",
       "      <th>1</th>\n",
       "      <td>2349</td>\n",
       "      <td>ham</td>\n",
       "      <td>Subject: hpl nom for january 9 , 2001\\r\\n( see...</td>\n",
       "      <td>0</td>\n",
       "    </tr>\n",
       "    <tr>\n",
       "      <th>2</th>\n",
       "      <td>3624</td>\n",
       "      <td>ham</td>\n",
       "      <td>Subject: neon retreat\\r\\nho ho ho , we ' re ar...</td>\n",
       "      <td>0</td>\n",
       "    </tr>\n",
       "    <tr>\n",
       "      <th>3</th>\n",
       "      <td>4685</td>\n",
       "      <td>spam</td>\n",
       "      <td>Subject: photoshop , windows , office . cheap ...</td>\n",
       "      <td>1</td>\n",
       "    </tr>\n",
       "    <tr>\n",
       "      <th>4</th>\n",
       "      <td>2030</td>\n",
       "      <td>ham</td>\n",
       "      <td>Subject: re : indian springs\\r\\nthis deal is t...</td>\n",
       "      <td>0</td>\n",
       "    </tr>\n",
       "  </tbody>\n",
       "</table>\n",
       "</div>"
      ],
      "text/plain": [
       "   Unnamed: 0 label                                               text  \\\n",
       "0         605   ham  Subject: enron methanol ; meter # : 988291\\r\\n...   \n",
       "1        2349   ham  Subject: hpl nom for january 9 , 2001\\r\\n( see...   \n",
       "2        3624   ham  Subject: neon retreat\\r\\nho ho ho , we ' re ar...   \n",
       "3        4685  spam  Subject: photoshop , windows , office . cheap ...   \n",
       "4        2030   ham  Subject: re : indian springs\\r\\nthis deal is t...   \n",
       "\n",
       "   label_num  \n",
       "0          0  \n",
       "1          0  \n",
       "2          0  \n",
       "3          1  \n",
       "4          0  "
      ]
     },
     "execution_count": 3,
     "metadata": {},
     "output_type": "execute_result"
    }
   ],
   "source": [
    "data = pd.read_csv(\"/kaggle/input/spam-ham-dataset/spam_dataset.csv\")\n",
    "data.head()"
   ]
  },
  {
   "cell_type": "code",
   "execution_count": 4,
   "id": "427ea2b5",
   "metadata": {
    "execution": {
     "iopub.execute_input": "2023-09-10T11:59:02.581852Z",
     "iopub.status.busy": "2023-09-10T11:59:02.579261Z",
     "iopub.status.idle": "2023-09-10T11:59:02.605950Z",
     "shell.execute_reply": "2023-09-10T11:59:02.604916Z"
    },
    "papermill": {
     "duration": 0.040225,
     "end_time": "2023-09-10T11:59:02.609363",
     "exception": false,
     "start_time": "2023-09-10T11:59:02.569138",
     "status": "completed"
    },
    "tags": []
   },
   "outputs": [
    {
     "data": {
      "text/html": [
       "<div>\n",
       "<style scoped>\n",
       "    .dataframe tbody tr th:only-of-type {\n",
       "        vertical-align: middle;\n",
       "    }\n",
       "\n",
       "    .dataframe tbody tr th {\n",
       "        vertical-align: top;\n",
       "    }\n",
       "\n",
       "    .dataframe thead th {\n",
       "        text-align: right;\n",
       "    }\n",
       "</style>\n",
       "<table border=\"1\" class=\"dataframe\">\n",
       "  <thead>\n",
       "    <tr style=\"text-align: right;\">\n",
       "      <th></th>\n",
       "      <th>Unnamed: 0</th>\n",
       "      <th>label_num</th>\n",
       "    </tr>\n",
       "  </thead>\n",
       "  <tbody>\n",
       "    <tr>\n",
       "      <th>count</th>\n",
       "      <td>5171.000000</td>\n",
       "      <td>5171.000000</td>\n",
       "    </tr>\n",
       "    <tr>\n",
       "      <th>mean</th>\n",
       "      <td>2585.000000</td>\n",
       "      <td>0.289886</td>\n",
       "    </tr>\n",
       "    <tr>\n",
       "      <th>std</th>\n",
       "      <td>1492.883452</td>\n",
       "      <td>0.453753</td>\n",
       "    </tr>\n",
       "    <tr>\n",
       "      <th>min</th>\n",
       "      <td>0.000000</td>\n",
       "      <td>0.000000</td>\n",
       "    </tr>\n",
       "    <tr>\n",
       "      <th>25%</th>\n",
       "      <td>1292.500000</td>\n",
       "      <td>0.000000</td>\n",
       "    </tr>\n",
       "    <tr>\n",
       "      <th>50%</th>\n",
       "      <td>2585.000000</td>\n",
       "      <td>0.000000</td>\n",
       "    </tr>\n",
       "    <tr>\n",
       "      <th>75%</th>\n",
       "      <td>3877.500000</td>\n",
       "      <td>1.000000</td>\n",
       "    </tr>\n",
       "    <tr>\n",
       "      <th>max</th>\n",
       "      <td>5170.000000</td>\n",
       "      <td>1.000000</td>\n",
       "    </tr>\n",
       "  </tbody>\n",
       "</table>\n",
       "</div>"
      ],
      "text/plain": [
       "        Unnamed: 0    label_num\n",
       "count  5171.000000  5171.000000\n",
       "mean   2585.000000     0.289886\n",
       "std    1492.883452     0.453753\n",
       "min       0.000000     0.000000\n",
       "25%    1292.500000     0.000000\n",
       "50%    2585.000000     0.000000\n",
       "75%    3877.500000     1.000000\n",
       "max    5170.000000     1.000000"
      ]
     },
     "execution_count": 4,
     "metadata": {},
     "output_type": "execute_result"
    }
   ],
   "source": [
    "data.describe()"
   ]
  },
  {
   "cell_type": "code",
   "execution_count": 5,
   "id": "68b4dd3b",
   "metadata": {
    "execution": {
     "iopub.execute_input": "2023-09-10T11:59:02.630853Z",
     "iopub.status.busy": "2023-09-10T11:59:02.628443Z",
     "iopub.status.idle": "2023-09-10T11:59:02.751149Z",
     "shell.execute_reply": "2023-09-10T11:59:02.749340Z"
    },
    "papermill": {
     "duration": 0.136136,
     "end_time": "2023-09-10T11:59:02.754446",
     "exception": false,
     "start_time": "2023-09-10T11:59:02.618310",
     "status": "completed"
    },
    "tags": []
   },
   "outputs": [
    {
     "name": "stdout",
     "output_type": "stream",
     "text": [
      "<class 'pandas.core.frame.DataFrame'>\n",
      "RangeIndex: 5171 entries, 0 to 5170\n",
      "Data columns (total 4 columns):\n",
      " #   Column      Non-Null Count  Dtype \n",
      "---  ------      --------------  ----- \n",
      " 0   Unnamed: 0  5171 non-null   int64 \n",
      " 1   label       5171 non-null   object\n",
      " 2   text        5171 non-null   object\n",
      " 3   label_num   5171 non-null   int64 \n",
      "dtypes: int64(2), object(2)\n",
      "memory usage: 161.7+ KB\n"
     ]
    }
   ],
   "source": [
    "data.info()"
   ]
  },
  {
   "cell_type": "code",
   "execution_count": 6,
   "id": "ac8d8e6c",
   "metadata": {
    "execution": {
     "iopub.execute_input": "2023-09-10T11:59:02.774484Z",
     "iopub.status.busy": "2023-09-10T11:59:02.774096Z",
     "iopub.status.idle": "2023-09-10T11:59:02.783660Z",
     "shell.execute_reply": "2023-09-10T11:59:02.782868Z"
    },
    "papermill": {
     "duration": 0.022276,
     "end_time": "2023-09-10T11:59:02.786008",
     "exception": false,
     "start_time": "2023-09-10T11:59:02.763732",
     "status": "completed"
    },
    "tags": []
   },
   "outputs": [
    {
     "data": {
      "text/plain": [
       "Unnamed: 0    0\n",
       "label         0\n",
       "text          0\n",
       "label_num     0\n",
       "dtype: int64"
      ]
     },
     "execution_count": 6,
     "metadata": {},
     "output_type": "execute_result"
    }
   ],
   "source": [
    "data.isnull().sum()"
   ]
  },
  {
   "cell_type": "code",
   "execution_count": 7,
   "id": "02fb3034",
   "metadata": {
    "execution": {
     "iopub.execute_input": "2023-09-10T11:59:02.806689Z",
     "iopub.status.busy": "2023-09-10T11:59:02.805964Z",
     "iopub.status.idle": "2023-09-10T11:59:03.103137Z",
     "shell.execute_reply": "2023-09-10T11:59:03.101418Z"
    },
    "papermill": {
     "duration": 0.311116,
     "end_time": "2023-09-10T11:59:03.106325",
     "exception": false,
     "start_time": "2023-09-10T11:59:02.795209",
     "status": "completed"
    },
    "tags": []
   },
   "outputs": [
    {
     "data": {
      "image/png": "[encoded data removed]",
      "text/plain": [
       "<Figure size 640x480 with 1 Axes>"
      ]
     },
     "metadata": {},
     "output_type": "display_data"
    }
   ],
   "source": [
    "Vis = data['label_num'].value_counts()\n",
    "Vis.plot(kind=\"bar\")\n",
    "plt.xticks(np.arange(2),(\"Non spam\",\"spam\"),rotation=0)\n",
    "plt.show()"
   ]
  },
  {
   "cell_type": "code",
   "execution_count": 8,
   "id": "e51f7982",
   "metadata": {
    "execution": {
     "iopub.execute_input": "2023-09-10T11:59:03.127182Z",
     "iopub.status.busy": "2023-09-10T11:59:03.126754Z",
     "iopub.status.idle": "2023-09-10T11:59:03.137965Z",
     "shell.execute_reply": "2023-09-10T11:59:03.136460Z"
    },
    "papermill": {
     "duration": 0.024593,
     "end_time": "2023-09-10T11:59:03.140545",
     "exception": false,
     "start_time": "2023-09-10T11:59:03.115952",
     "status": "completed"
    },
    "tags": []
   },
   "outputs": [],
   "source": [
    "data.loc[data['label'] == 'spam', 'Category',] = 0\n",
    "data.loc[data['label'] == 'ham', 'Category',] = 1"
   ]
  },
  {
   "cell_type": "code",
   "execution_count": 9,
   "id": "c092af6a",
   "metadata": {
    "execution": {
     "iopub.execute_input": "2023-09-10T11:59:03.161450Z",
     "iopub.status.busy": "2023-09-10T11:59:03.161011Z",
     "iopub.status.idle": "2023-09-10T11:59:03.166905Z",
     "shell.execute_reply": "2023-09-10T11:59:03.165612Z"
    },
    "papermill": {
     "duration": 0.019215,
     "end_time": "2023-09-10T11:59:03.169404",
     "exception": false,
     "start_time": "2023-09-10T11:59:03.150189",
     "status": "completed"
    },
    "tags": []
   },
   "outputs": [],
   "source": [
    "x = data['text']\n",
    "y = data['label']"
   ]
  },
  {
   "cell_type": "code",
   "execution_count": 10,
   "id": "2879074d",
   "metadata": {
    "execution": {
     "iopub.execute_input": "2023-09-10T11:59:03.191994Z",
     "iopub.status.busy": "2023-09-10T11:59:03.191509Z",
     "iopub.status.idle": "2023-09-10T11:59:03.200013Z",
     "shell.execute_reply": "2023-09-10T11:59:03.198671Z"
    },
    "papermill": {
     "duration": 0.023503,
     "end_time": "2023-09-10T11:59:03.203264",
     "exception": false,
     "start_time": "2023-09-10T11:59:03.179761",
     "status": "completed"
    },
    "tags": []
   },
   "outputs": [],
   "source": [
    "x_train,x_test,y_train,y_test = train_test_split(x,y,test_size=0.2,random_state=3)"
   ]
  },
  {
   "cell_type": "code",
   "execution_count": 11,
   "id": "a7e639c6",
   "metadata": {
    "execution": {
     "iopub.execute_input": "2023-09-10T11:59:03.224456Z",
     "iopub.status.busy": "2023-09-10T11:59:03.224060Z",
     "iopub.status.idle": "2023-09-10T11:59:03.231418Z",
     "shell.execute_reply": "2023-09-10T11:59:03.229553Z"
    },
    "papermill": {
     "duration": 0.021801,
     "end_time": "2023-09-10T11:59:03.234809",
     "exception": false,
     "start_time": "2023-09-10T11:59:03.213008",
     "status": "completed"
    },
    "tags": []
   },
   "outputs": [
    {
     "name": "stdout",
     "output_type": "stream",
     "text": [
      "(5171,)\n",
      "(4136,)\n",
      "(1035,)\n"
     ]
    }
   ],
   "source": [
    "print(x.shape)\n",
    "print(x_train.shape)\n",
    "print(x_test.shape)"
   ]
  },
  {
   "cell_type": "code",
   "execution_count": 12,
   "id": "91ba18b4",
   "metadata": {
    "execution": {
     "iopub.execute_input": "2023-09-10T11:59:03.256934Z",
     "iopub.status.busy": "2023-09-10T11:59:03.256467Z",
     "iopub.status.idle": "2023-09-10T11:59:04.462493Z",
     "shell.execute_reply": "2023-09-10T11:59:04.461187Z"
    },
    "papermill": {
     "duration": 1.220247,
     "end_time": "2023-09-10T11:59:04.465532",
     "exception": false,
     "start_time": "2023-09-10T11:59:03.245285",
     "status": "completed"
    },
    "tags": []
   },
   "outputs": [],
   "source": [
    "#transform the text data to feature vectors that can be used to the logistic regression\n",
    "\n",
    "feature_extraction = TfidfVectorizer(min_df=1, stop_words ='english', lowercase =True)\n",
    "x_train_transformed = feature_extraction.fit_transform(x_train)\n",
    "x_test_transformed = feature_extraction.transform(x_test)"
   ]
  },
  {
   "cell_type": "code",
   "execution_count": 13,
   "id": "07c7fd6d",
   "metadata": {
    "execution": {
     "iopub.execute_input": "2023-09-10T11:59:04.486519Z",
     "iopub.status.busy": "2023-09-10T11:59:04.486122Z",
     "iopub.status.idle": "2023-09-10T11:59:04.491952Z",
     "shell.execute_reply": "2023-09-10T11:59:04.490642Z"
    },
    "papermill": {
     "duration": 0.019398,
     "end_time": "2023-09-10T11:59:04.494575",
     "exception": false,
     "start_time": "2023-09-10T11:59:04.475177",
     "status": "completed"
    },
    "tags": []
   },
   "outputs": [],
   "source": [
    "model = LogisticRegression()"
   ]
  },
  {
   "cell_type": "code",
   "execution_count": 14,
   "id": "3cb440f4",
   "metadata": {
    "execution": {
     "iopub.execute_input": "2023-09-10T11:59:04.519018Z",
     "iopub.status.busy": "2023-09-10T11:59:04.518410Z",
     "iopub.status.idle": "2023-09-10T11:59:05.449718Z",
     "shell.execute_reply": "2023-09-10T11:59:05.447783Z"
    },
    "papermill": {
     "duration": 0.949323,
     "end_time": "2023-09-10T11:59:05.454410",
     "exception": false,
     "start_time": "2023-09-10T11:59:04.505087",
     "status": "completed"
    },
    "tags": []
   },
   "outputs": [
    {
     "data": {
      "text/html": [
       "<style>#sk-container-id-1 {color: black;background-color: white;}#sk-container-id-1 pre{padding: 0;}#sk-container-id-1 div.sk-toggleable {background-color: white;}#sk-container-id-1 label.sk-toggleable__label {cursor: pointer;display: block;width: 100%;margin-bottom: 0;padding: 0.3em;box-sizing: border-box;text-align: center;}#sk-container-id-1 label.sk-toggleable__label-arrow:before {content: \"▸\";float: left;margin-right: 0.25em;color: #696969;}#sk-container-id-1 label.sk-toggleable__label-arrow:hover:before {color: black;}#sk-container-id-1 div.sk-estimator:hover label.sk-toggleable__label-arrow:before {color: black;}#sk-container-id-1 div.sk-toggleable__content {max-height: 0;max-width: 0;overflow: hidden;text-align: left;background-color: #f0f8ff;}#sk-container-id-1 div.sk-toggleable__content pre {margin: 0.2em;color: black;border-radius: 0.25em;background-color: #f0f8ff;}#sk-container-id-1 input.sk-toggleable__control:checked~div.sk-toggleable__content {max-height: 200px;max-width: 100%;overflow: auto;}#sk-container-id-1 input.sk-toggleable__control:checked~label.sk-toggleable__label-arrow:before {content: \"▾\";}#sk-container-id-1 div.sk-estimator input.sk-toggleable__control:checked~label.sk-toggleable__label {background-color: #d4ebff;}#sk-container-id-1 div.sk-label input.sk-toggleable__control:checked~label.sk-toggleable__label {background-color: #d4ebff;}#sk-container-id-1 input.sk-hidden--visually {border: 0;clip: rect(1px 1px 1px 1px);clip: rect(1px, 1px, 1px, 1px);height: 1px;margin: -1px;overflow: hidden;padding: 0;position: absolute;width: 1px;}#sk-container-id-1 div.sk-estimator {font-family: monospace;background-color: #f0f8ff;border: 1px dotted black;border-radius: 0.25em;box-sizing: border-box;margin-bottom: 0.5em;}#sk-container-id-1 div.sk-estimator:hover {background-color: #d4ebff;}#sk-container-id-1 div.sk-parallel-item::after {content: \"\";width: 100%;border-bottom: 1px solid gray;flex-grow: 1;}#sk-container-id-1 div.sk-label:hover label.sk-toggleable__label {background-color: #d4ebff;}#sk-container-id-1 div.sk-serial::before {content: \"\";position: absolute;border-left: 1px solid gray;box-sizing: border-box;top: 0;bottom: 0;left: 50%;z-index: 0;}#sk-container-id-1 div.sk-serial {display: flex;flex-direction: column;align-items: center;background-color: white;padding-right: 0.2em;padding-left: 0.2em;position: relative;}#sk-container-id-1 div.sk-item {position: relative;z-index: 1;}#sk-container-id-1 div.sk-parallel {display: flex;align-items: stretch;justify-content: center;background-color: white;position: relative;}#sk-container-id-1 div.sk-item::before, #sk-container-id-1 div.sk-parallel-item::before {content: \"\";position: absolute;border-left: 1px solid gray;box-sizing: border-box;top: 0;bottom: 0;left: 50%;z-index: -1;}#sk-container-id-1 div.sk-parallel-item {display: flex;flex-direction: column;z-index: 1;position: relative;background-color: white;}#sk-container-id-1 div.sk-parallel-item:first-child::after {align-self: flex-end;width: 50%;}#sk-container-id-1 div.sk-parallel-item:last-child::after {align-self: flex-start;width: 50%;}#sk-container-id-1 div.sk-parallel-item:only-child::after {width: 0;}#sk-container-id-1 div.sk-dashed-wrapped {border: 1px dashed gray;margin: 0 0.4em 0.5em 0.4em;box-sizing: border-box;padding-bottom: 0.4em;background-color: white;}#sk-container-id-1 div.sk-label label {font-family: monospace;font-weight: bold;display: inline-block;line-height: 1.2em;}#sk-container-id-1 div.sk-label-container {text-align: center;}#sk-container-id-1 div.sk-container {/* jupyter's `normalize.less` sets `[hidden] { display: none; }` but bootstrap.min.css set `[hidden] { display: none !important; }` so we also need the `!important` here to be able to override the default hidden behavior on the sphinx rendered scikit-learn.org. See: https://github.com/scikit-learn/scikit-learn/issues/21755 */display: inline-block !important;position: relative;}#sk-container-id-1 div.sk-text-repr-fallback {display: none;}</style><div id=\"sk-container-id-1\" class=\"sk-top-container\"><div class=\"sk-text-repr-fallback\"><pre>LogisticRegression()</pre><b>In a Jupyter environment, please rerun this cell to show the HTML representation or trust the notebook. <br />On GitHub, the HTML representation is unable to render, please try loading this page with nbviewer.org.</b></div><div class=\"sk-container\" hidden><div class=\"sk-item\"><div class=\"sk-estimator sk-toggleable\"><input class=\"sk-toggleable__control sk-hidden--visually\" id=\"sk-estimator-id-1\" type=\"checkbox\" checked><label for=\"sk-estimator-id-1\" class=\"sk-toggleable__label sk-toggleable__label-arrow\">LogisticRegression</label><div class=\"sk-toggleable__content\"><pre>LogisticRegression()</pre></div></div></div></div></div>"
      ],
      "text/plain": [
       "LogisticRegression()"
      ]
     },
     "execution_count": 14,
     "metadata": {},
     "output_type": "execute_result"
    }
   ],
   "source": [
    "model.fit(x_train_transformed, y_train)"
   ]
  },
  {
   "cell_type": "code",
   "execution_count": 15,
   "id": "855c2674",
   "metadata": {
    "execution": {
     "iopub.execute_input": "2023-09-10T11:59:05.527782Z",
     "iopub.status.busy": "2023-09-10T11:59:05.527337Z",
     "iopub.status.idle": "2023-09-10T11:59:05.537342Z",
     "shell.execute_reply": "2023-09-10T11:59:05.536479Z"
    },
    "papermill": {
     "duration": 0.045272,
     "end_time": "2023-09-10T11:59:05.539797",
     "exception": false,
     "start_time": "2023-09-10T11:59:05.494525",
     "status": "completed"
    },
    "tags": []
   },
   "outputs": [],
   "source": [
    "prediction_test = model.predict(x_test_transformed)\n",
    "acc_test = accuracy_score(y_test, prediction_test)"
   ]
  },
  {
   "cell_type": "code",
   "execution_count": 16,
   "id": "cb089556",
   "metadata": {
    "execution": {
     "iopub.execute_input": "2023-09-10T11:59:05.562735Z",
     "iopub.status.busy": "2023-09-10T11:59:05.561956Z",
     "iopub.status.idle": "2023-09-10T11:59:05.567721Z",
     "shell.execute_reply": "2023-09-10T11:59:05.566373Z"
    },
    "papermill": {
     "duration": 0.020123,
     "end_time": "2023-09-10T11:59:05.570448",
     "exception": false,
     "start_time": "2023-09-10T11:59:05.550325",
     "status": "completed"
    },
    "tags": []
   },
   "outputs": [
    {
     "name": "stdout",
     "output_type": "stream",
     "text": [
      "Accuracy on test data :  98.06763285024155\n"
     ]
    }
   ],
   "source": [
    "print(\"Accuracy on test data : \", acc_test*100)"
   ]
  },
  {
   "cell_type": "code",
   "execution_count": null,
   "id": "d366636e",
   "metadata": {
    "papermill": {
     "duration": 0.009622,
     "end_time": "2023-09-10T11:59:05.590349",
     "exception": false,
     "start_time": "2023-09-10T11:59:05.580727",
     "status": "completed"
    },
    "tags": []
   },
   "outputs": [],
   "source": []
  }
 ],
 "kernelspec": {
  "display_name": "Python 3",
  "language": "python",
  "name": "python3"
 },
 "language_info": {
  "codemirror_mode": {
   "name": "ipython",
   "version": 3
  },
  "file_extension": ".py",
  "mimetype": "text/x-python",
  "name": "python",
  "nbconvert_exporter": "python",
  "pygments_lexer": "ipython3",
  "version": "3.6.4"
 },
 "metadata": {
  "kernelspec": {
   "display_name": "Python 3",
   "language": "python",
   "name": "python3"
  },
  "language_info": {
   "codemirror_mode": {
    "name": "ipython",
    "version": 3
   },
   "file_extension": ".py",
   "mimetype": "text/x-python",
   "name": "python",
   "nbconvert_exporter": "python",
   "pygments_lexer": "ipython3",
   "version": "3.10.12"
  },
  "papermill": {
   "default_parameters": {},
   "duration": 9.995703,
   "end_time": "2023-09-10T11:59:06.323752",
   "environment_variables": {},
   "exception": null,
   "input_path": "__notebook__.ipynb",
   "output_path": "__notebook__.ipynb",
   "parameters": {},
   "start_time": "2023-09-10T11:58:56.328049",
   "version": "2.4.0"
  }
 },
 "nbformat": 4,
 "nbformat_minor": 5
}
